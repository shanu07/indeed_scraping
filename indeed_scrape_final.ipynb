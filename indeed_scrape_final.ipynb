{
 "cells": [
  {
   "cell_type": "code",
   "execution_count": 2,
   "metadata": {
    "collapsed": true
   },
   "outputs": [],
   "source": [
    "import requests\n",
    "import bs4\n",
    "from bs4 import BeautifulSoup\n",
    "import pandas as pd\n",
    "import time"
   ]
  },
  {
   "cell_type": "code",
   "execution_count": 3,
   "metadata": {},
   "outputs": [],
   "source": [
    "URL = 'https://www.indeed.com/jobs?q=data+scientist&l=New+York&start=10'\n",
    "page = requests.get(URL)\n",
    "soup = BeautifulSoup(page.text, 'html.parser')\n",
    "#print(soup)"
   ]
  },
  {
   "cell_type": "code",
   "execution_count": null,
   "metadata": {},
   "outputs": [],
   "source": [
    "max_results_per_city = 23500\n",
    "city_set = ['New York','Chicago','San Francisco', 'Austin','San Antonio' 'Seattle', 'Los Angeles', 'Philadelphia', 'Atlanta',\n",
    "            'Dallas', 'Pittsburgh', 'Portland', 'Phoenix', 'Denver', 'Houston', 'Miami', 'Washington DC']\n",
    "columns = ['city', 'job_title', 'company_name', 'location', 'summary', 'desired_experience', 'salary']\n",
    "sample_df = pd.DataFrame(columns = columns)\n",
    "print(sample_df)"
   ]
  },
  {
   "cell_type": "code",
   "execution_count": null,
   "metadata": {},
   "outputs": [],
   "source": [
    "#scraping code:\n",
    "for city in city_set:\n",
    "    for start in range(0, 5000, 10):\n",
    "        page = requests.get('https://www.indeed.com/jobs?q=data+scientist&l=' + str(city) + '&start=' + str(start))\n",
    "        time.sleep(2)  # wait 2 second between page grabs\n",
    "        soup = BeautifulSoup(page.text, 'lxml')\n",
    "        for div in soup.find_all(name='div', attrs={'class':'row'}): \n",
    "            #specifying row num for index of job posting in dataframe\n",
    "            num = (len(sample_df) + 1) \n",
    "            #creating list\n",
    "            job_post = [] \n",
    "            #append city name\n",
    "            job_post.append(city)\n",
    "            #grabbing job title\n",
    "            for a in div.find_all(name='a', attrs={'data-tn-element':'jobTitle'}):\n",
    "                job_post.append(a['title']) \n",
    "                #adding company\n",
    "                company = div.find_all(name='span', attrs={'class':'company'}) \n",
    "                if len(company) > 0: \n",
    "                    for b in company:\n",
    "                        job_post.append(b.text.strip()) \n",
    "                else: \n",
    "                    sec_try = div.find_all(name='span', attrs={'class':'result-link-source'})\n",
    "                    for span in sec_try:\n",
    "                        job_post.append(span.text) \n",
    "            \n",
    "            #adding location\n",
    "            c = div.findAll('span', attrs={'class': 'location'}) \n",
    "            for span in c: \n",
    "                job_post.append(span.text) \n",
    "\n",
    "            #adding summary\n",
    "            d = div.findAll('span', attrs={'class': 'summary'}) \n",
    "            for span in d:\n",
    "                job_post.append(span.text.strip()) \n",
    "            \n",
    "            #adding Desired Experience\n",
    "            \n",
    "            e = div.findAll('span', attrs={'class': 'experienceList'})\n",
    "            if len(e) >0:\n",
    "                for span in e:\n",
    "                    job_post.append(span.text.strip())\n",
    "            else:\n",
    "                job_post.append('NA')\n",
    "                   \n",
    "                \n",
    "            #adding salary\n",
    "            try:\n",
    "                job_post.append(div.find('nobr').text) \n",
    "            except:\n",
    "                try:\n",
    "                    div2 = div.find(name='div', attrs={'class':'sjcl'}) \n",
    "                    div3 = div2.find('div') \n",
    "                    job_post.append(div3.text.strip())\n",
    "                except:\n",
    "                    job_post.append('NA') \n",
    "            #putting job post to dataframe at index num\n",
    "            sample_df.loc[num] = job_post\n",
    "            #print(sample_df)\n",
    "            \n",
    "\n",
    "#saving sample_df as a csv file \n",
    "sample_df.to_csv('indeed_test1.csv')\n"
   ]
  },
  {
   "cell_type": "code",
   "execution_count": null,
   "metadata": {
    "collapsed": true
   },
   "outputs": [],
   "source": []
  }
 ],
 "metadata": {
  "kernelspec": {
   "display_name": "Python 3",
   "language": "python",
   "name": "python3"
  },
  "language_info": {
   "codemirror_mode": {
    "name": "ipython",
    "version": 3
   },
   "file_extension": ".py",
   "mimetype": "text/x-python",
   "name": "python",
   "nbconvert_exporter": "python",
   "pygments_lexer": "ipython3",
   "version": "3.6.1"
  }
 },
 "nbformat": 4,
 "nbformat_minor": 2
}
